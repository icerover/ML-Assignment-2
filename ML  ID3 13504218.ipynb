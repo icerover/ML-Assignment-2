{
 "cells": [
  {
   "cell_type": "code",
   "execution_count": 1,
   "metadata": {},
   "outputs": [],
   "source": [
    "#Surpress the warnings\n",
    "import warnings\n",
    "warnings.filterwarnings(\"ignore\")\n",
    "import matplotlib.pyplot as plt"
   ]
  },
  {
   "cell_type": "markdown",
   "metadata": {},
   "source": [
    "# Import Play Tennis Data "
   ]
  },
  {
   "cell_type": "code",
   "execution_count": 2,
   "metadata": {},
   "outputs": [],
   "source": [
    " \n",
    "import pandas as pd\n",
    "df_tennis = pd.read_csv('C:/Users/Nikhi/Downloads/PlayTennis.csv')\n",
    "#print(\"\\n Given Play Tennis Data Set:\\n\\n\", df_tennis)"
   ]
  },
  {
   "cell_type": "code",
   "execution_count": 3,
   "metadata": {},
   "outputs": [
    {
     "output_type": "execute_result",
     "data": {
      "text/plain": [
       "                 0       1         2     3       4\n",
       "Unnamed: 0       0       1         2     3       4\n",
       "PlayTennis      No      No       Yes   Yes     Yes\n",
       "Outlook      Sunny   Sunny  Overcast  Rain    Rain\n",
       "Temperature    Hot     Hot       Hot  Mild    Cool\n",
       "Humidity      High    High      High  High  Normal\n",
       "Wind          Weak  Strong      Weak  Weak    Weak"
      ],
      "text/html": "<div>\n<style scoped>\n    .dataframe tbody tr th:only-of-type {\n        vertical-align: middle;\n    }\n\n    .dataframe tbody tr th {\n        vertical-align: top;\n    }\n\n    .dataframe thead th {\n        text-align: right;\n    }\n</style>\n<table border=\"1\" class=\"dataframe\">\n  <thead>\n    <tr style=\"text-align: right;\">\n      <th></th>\n      <th>0</th>\n      <th>1</th>\n      <th>2</th>\n      <th>3</th>\n      <th>4</th>\n    </tr>\n  </thead>\n  <tbody>\n    <tr>\n      <th>Unnamed: 0</th>\n      <td>0</td>\n      <td>1</td>\n      <td>2</td>\n      <td>3</td>\n      <td>4</td>\n    </tr>\n    <tr>\n      <th>PlayTennis</th>\n      <td>No</td>\n      <td>No</td>\n      <td>Yes</td>\n      <td>Yes</td>\n      <td>Yes</td>\n    </tr>\n    <tr>\n      <th>Outlook</th>\n      <td>Sunny</td>\n      <td>Sunny</td>\n      <td>Overcast</td>\n      <td>Rain</td>\n      <td>Rain</td>\n    </tr>\n    <tr>\n      <th>Temperature</th>\n      <td>Hot</td>\n      <td>Hot</td>\n      <td>Hot</td>\n      <td>Mild</td>\n      <td>Cool</td>\n    </tr>\n    <tr>\n      <th>Humidity</th>\n      <td>High</td>\n      <td>High</td>\n      <td>High</td>\n      <td>High</td>\n      <td>Normal</td>\n    </tr>\n    <tr>\n      <th>Wind</th>\n      <td>Weak</td>\n      <td>Strong</td>\n      <td>Weak</td>\n      <td>Weak</td>\n      <td>Weak</td>\n    </tr>\n  </tbody>\n</table>\n</div>"
     },
     "metadata": {},
     "execution_count": 3
    }
   ],
   "source": [
    "df_tennis.head().T"
   ]
  },
  {
   "cell_type": "code",
   "execution_count": 4,
   "metadata": {},
   "outputs": [
    {
     "output_type": "execute_result",
     "data": {
      "text/plain": [
       "(14, 6)"
      ]
     },
     "metadata": {},
     "execution_count": 4
    }
   ],
   "source": [
    "df_tennis.shape"
   ]
  },
  {
   "cell_type": "code",
   "execution_count": 5,
   "metadata": {},
   "outputs": [
    {
     "output_type": "execute_result",
     "data": {
      "text/plain": [
       "Unnamed: 0     0\n",
       "PlayTennis     0\n",
       "Outlook        0\n",
       "Temperature    0\n",
       "Humidity       0\n",
       "Wind           0\n",
       "dtype: int64"
      ]
     },
     "metadata": {},
     "execution_count": 5
    }
   ],
   "source": [
    "#Inspect Null values\n",
    "df_tennis.isnull().sum()"
   ]
  },
  {
   "cell_type": "markdown",
   "metadata": {},
   "source": [
    "# Entropy of the Training Data Set"
   ]
  },
  {
   "cell_type": "code",
   "execution_count": 6,
   "metadata": {},
   "outputs": [
    {
     "output_type": "stream",
     "name": "stdout",
     "text": [
      "\n  INPUT DATA SET FOR ENTROPY CALCULATION:\n 0      No\n1      No\n2     Yes\n3     Yes\n4     Yes\n5      No\n6     Yes\n7      No\n8     Yes\n9     Yes\n10    Yes\n11    Yes\n12    Yes\n13     No\nName: PlayTennis, dtype: object\n\n Number of Instances of the Current Sub Class is 14.0:\n\n Classes: No Yes\n \n Probabilities of Class No is 0.35714285714285715:\n \n Probabilities of Class Yes is 0.6428571428571429:\n\n Total Entropy of PlayTennis Data Set: 0.9402859586706309\n"
     ]
    }
   ],
   "source": [
    "#Function to calculate the entropy of probaility of observations\n",
    "# -p*log2*p\n",
    "\n",
    "def entropy(probs):  \n",
    "    import math\n",
    "    return sum( [-prob*math.log(prob, 2) for prob in probs] )\n",
    "\n",
    "#Function to calulate the entropy of the given Data Sets/List with respect to target attributes\n",
    "def entropy_of_list(a_list):  \n",
    "    #print(\"A-list\",a_list)\n",
    "    from collections import Counter\n",
    "    cnt = Counter(x for x in a_list)   # Counter calculates the propotion of class\n",
    "   # print(\"\\nClasses:\",cnt)\n",
    "    #print(\"No and Yes Classes:\",a_list.name,cnt)\n",
    "    num_instances = len(a_list)*1.0   # = 14\n",
    "    print(\"\\n Number of Instances of the Current Sub Class is {0}:\".format(num_instances ))\n",
    "    probs = [x / num_instances for x in cnt.values()]  # x means no of YES/NO\n",
    "    print(\"\\n Classes:\",min(cnt),max(cnt))\n",
    "    print(\" \\n Probabilities of Class {0} is {1}:\".format(min(cnt),min(probs)))\n",
    "    print(\" \\n Probabilities of Class {0} is {1}:\".format(max(cnt),max(probs)))\n",
    "    return entropy(probs) # Call Entropy :\n",
    "    \n",
    "# The initial entropy of the YES/NO attribute for our dataset.\n",
    "print(\"\\n  INPUT DATA SET FOR ENTROPY CALCULATION:\\n\", df_tennis['PlayTennis'])\n",
    "\n",
    "total_entropy = entropy_of_list(df_tennis['PlayTennis'])\n",
    "\n",
    "print(\"\\n Total Entropy of PlayTennis Data Set:\",total_entropy)"
   ]
  },
  {
   "cell_type": "markdown",
   "metadata": {},
   "source": [
    "# Information Gain of Attributes "
   ]
  },
  {
   "cell_type": "code",
   "execution_count": 7,
   "metadata": {},
   "outputs": [
    {
     "output_type": "stream",
     "name": "stdout",
     "text": [
      "Information Gain Calculation of  Outlook\n\n Number of Instances of the Current Sub Class is 4.0:\n\n Classes: Yes Yes\n \n Probabilities of Class Yes is 1.0:\n \n Probabilities of Class Yes is 1.0:\n\n Number of Instances of the Current Sub Class is 5.0:\n\n Classes: No Yes\n \n Probabilities of Class No is 0.4:\n \n Probabilities of Class Yes is 0.6:\n\n Number of Instances of the Current Sub Class is 5.0:\n\n Classes: No Yes\n \n Probabilities of Class No is 0.4:\n \n Probabilities of Class Yes is 0.6:\n\n Number of Instances of the Current Sub Class is 14.0:\n\n Classes: No Yes\n \n Probabilities of Class No is 0.35714285714285715:\n \n Probabilities of Class Yes is 0.6428571428571429:\nInfo-gain for Outlook is :0.2467498197744391 \n\nInformation Gain Calculation of  Humidity\n\n Number of Instances of the Current Sub Class is 7.0:\n\n Classes: No Yes\n \n Probabilities of Class No is 0.42857142857142855:\n \n Probabilities of Class Yes is 0.5714285714285714:\n\n Number of Instances of the Current Sub Class is 7.0:\n\n Classes: No Yes\n \n Probabilities of Class No is 0.14285714285714285:\n \n Probabilities of Class Yes is 0.8571428571428571:\n\n Number of Instances of the Current Sub Class is 14.0:\n\n Classes: No Yes\n \n Probabilities of Class No is 0.35714285714285715:\n \n Probabilities of Class Yes is 0.6428571428571429:\n\n Info-gain for Humidity is: 0.15183550136234136 \n\nInformation Gain Calculation of  Wind\n\n Number of Instances of the Current Sub Class is 6.0:\n\n Classes: No Yes\n \n Probabilities of Class No is 0.5:\n \n Probabilities of Class Yes is 0.5:\n\n Number of Instances of the Current Sub Class is 8.0:\n\n Classes: No Yes\n \n Probabilities of Class No is 0.25:\n \n Probabilities of Class Yes is 0.75:\n\n Number of Instances of the Current Sub Class is 14.0:\n\n Classes: No Yes\n \n Probabilities of Class No is 0.35714285714285715:\n \n Probabilities of Class Yes is 0.6428571428571429:\n\n Info-gain for Wind is:0.04812703040826927 \n\nInformation Gain Calculation of  Temperature\n\n Number of Instances of the Current Sub Class is 4.0:\n\n Classes: No Yes\n \n Probabilities of Class No is 0.25:\n \n Probabilities of Class Yes is 0.75:\n\n Number of Instances of the Current Sub Class is 4.0:\n\n Classes: No Yes\n \n Probabilities of Class No is 0.5:\n \n Probabilities of Class Yes is 0.5:\n\n Number of Instances of the Current Sub Class is 6.0:\n\n Classes: No Yes\n \n Probabilities of Class No is 0.3333333333333333:\n \n Probabilities of Class Yes is 0.6666666666666666:\n\n Number of Instances of the Current Sub Class is 14.0:\n\n Classes: No Yes\n \n Probabilities of Class No is 0.35714285714285715:\n \n Probabilities of Class Yes is 0.6428571428571429:\n\n Info-gain for Temperature is:0.029222565658954647 \n\n"
     ]
    }
   ],
   "source": [
    "def information_gain(df, split_attribute_name, target_attribute_name, trace=0):\n",
    "    print(\"Information Gain Calculation of \",split_attribute_name)\n",
    "    \n",
    "    # Split Data by Possible Vals of Attribute:\n",
    "    df_split = df.groupby(split_attribute_name)\n",
    "  \n",
    "    nobs = len(df.index) * 1.0\n",
    "   # print(\"NOBS\",nobs)\n",
    "    df_agg_ent = df_split.agg({target_attribute_name : [entropy_of_list, lambda x: len(x)/nobs] })[target_attribute_name]\n",
    "    \n",
    "    df_agg_ent.columns = ['Entropy', 'PropObservations']\n",
    "   \n",
    "    \n",
    "    # Calculate Information Gain:\n",
    "    new_entropy = sum( df_agg_ent['Entropy'] * df_agg_ent['PropObservations'] )\n",
    "    old_entropy = entropy_of_list(df[target_attribute_name])\n",
    "    return old_entropy - new_entropy\n",
    "\n",
    "\n",
    "print('Info-gain for Outlook is :'+str( information_gain(df_tennis, 'Outlook', 'PlayTennis')),\"\\n\")\n",
    "print('\\n Info-gain for Humidity is: ' + str( information_gain(df_tennis, 'Humidity', 'PlayTennis')),\"\\n\")\n",
    "print('\\n Info-gain for Wind is:' + str( information_gain(df_tennis, 'Wind', 'PlayTennis')),\"\\n\")\n",
    "print('\\n Info-gain for Temperature is:' + str( information_gain(df_tennis, 'Temperature','PlayTennis')),\"\\n\")"
   ]
  },
  {
   "cell_type": "markdown",
   "metadata": {},
   "source": [
    "# ID3 Algorithm"
   ]
  },
  {
   "cell_type": "code",
   "execution_count": 8,
   "metadata": {},
   "outputs": [],
   "source": [
    "def id3(df, target_attribute_name, attribute_names, default_class=None):\n",
    "    \n",
    "    ## Tally target attribute:\n",
    "    from collections import Counter\n",
    "    cnt = Counter(x for x in df[target_attribute_name])\n",
    "    \n",
    "    ## First check: Is this split of the dataset homogeneous?\n",
    "    if len(cnt) == 1:\n",
    "        return next(iter(cnt)) \n",
    "    \n",
    "  \n",
    "    elif df.empty or (not attribute_names):\n",
    "        return default_class  # Return None for Empty Data Set\n",
    "    \n",
    "    \n",
    "    else:\n",
    "        \n",
    "        default_class = max(cnt.keys()) #No of YES and NO Class\n",
    "       \n",
    "        gainz = [information_gain(df, attr, target_attribute_name) for attr in attribute_names] #\n",
    "        index_of_max = gainz.index(max(gainz)) # Index of Best Attribute\n",
    "       \n",
    "        best_attr = attribute_names[index_of_max]\n",
    "        \n",
    "        # Create an empty tree, to be populated in a moment\n",
    "        tree = {best_attr:{}} # Iniiate the tree with best attribute as a node \n",
    "        remaining_attribute_names = [i for i in attribute_names if i != best_attr]\n",
    "        \n",
    "        # Split dataset\n",
    "      \n",
    "        for attr_val, data_subset in df.groupby(best_attr):\n",
    "            subtree = id3(data_subset,\n",
    "                        target_attribute_name,\n",
    "                        remaining_attribute_names,\n",
    "                        default_class)\n",
    "            tree[best_attr][attr_val] = subtree\n",
    "        return tree"
   ]
  },
  {
   "cell_type": "markdown",
   "metadata": {},
   "source": [
    "# Predicting Attributes"
   ]
  },
  {
   "cell_type": "code",
   "execution_count": 9,
   "metadata": {},
   "outputs": [
    {
     "output_type": "stream",
     "name": "stdout",
     "text": [
      "List of Attributes: ['Unnamed: 0', 'PlayTennis', 'Outlook', 'Temperature', 'Humidity', 'Wind']\nPredicting Attributes: ['Unnamed: 0', 'Outlook', 'Temperature', 'Humidity', 'Wind']\n"
     ]
    }
   ],
   "source": [
    "# Get Predictor Names (all but 'class')\n",
    "attribute_names = list(df_tennis.columns)\n",
    "print(\"List of Attributes:\", attribute_names) \n",
    "attribute_names.remove('PlayTennis') #Remove the class attribute \n",
    "print(\"Predicting Attributes:\", attribute_names)"
   ]
  },
  {
   "cell_type": "markdown",
   "metadata": {},
   "source": [
    "# Tree Construction"
   ]
  },
  {
   "cell_type": "code",
   "execution_count": 10,
   "metadata": {},
   "outputs": [
    {
     "output_type": "stream",
     "name": "stdout",
     "text": [
      "Information Gain Calculation of  Unnamed: 0\n\n Number of Instances of the Current Sub Class is 1.0:\n\n Classes: No No\n \n Probabilities of Class No is 1.0:\n \n Probabilities of Class No is 1.0:\n\n Number of Instances of the Current Sub Class is 1.0:\n\n Classes: No No\n \n Probabilities of Class No is 1.0:\n \n Probabilities of Class No is 1.0:\n\n Number of Instances of the Current Sub Class is 1.0:\n\n Classes: Yes Yes\n \n Probabilities of Class Yes is 1.0:\n \n Probabilities of Class Yes is 1.0:\n\n Number of Instances of the Current Sub Class is 1.0:\n\n Classes: Yes Yes\n \n Probabilities of Class Yes is 1.0:\n \n Probabilities of Class Yes is 1.0:\n\n Number of Instances of the Current Sub Class is 1.0:\n\n Classes: Yes Yes\n \n Probabilities of Class Yes is 1.0:\n \n Probabilities of Class Yes is 1.0:\n\n Number of Instances of the Current Sub Class is 1.0:\n\n Classes: No No\n \n Probabilities of Class No is 1.0:\n \n Probabilities of Class No is 1.0:\n\n Number of Instances of the Current Sub Class is 1.0:\n\n Classes: Yes Yes\n \n Probabilities of Class Yes is 1.0:\n \n Probabilities of Class Yes is 1.0:\n\n Number of Instances of the Current Sub Class is 1.0:\n\n Classes: No No\n \n Probabilities of Class No is 1.0:\n \n Probabilities of Class No is 1.0:\n\n Number of Instances of the Current Sub Class is 1.0:\n\n Classes: Yes Yes\n \n Probabilities of Class Yes is 1.0:\n \n Probabilities of Class Yes is 1.0:\n\n Number of Instances of the Current Sub Class is 1.0:\n\n Classes: Yes Yes\n \n Probabilities of Class Yes is 1.0:\n \n Probabilities of Class Yes is 1.0:\n\n Number of Instances of the Current Sub Class is 1.0:\n\n Classes: Yes Yes\n \n Probabilities of Class Yes is 1.0:\n \n Probabilities of Class Yes is 1.0:\n\n Number of Instances of the Current Sub Class is 1.0:\n\n Classes: Yes Yes\n \n Probabilities of Class Yes is 1.0:\n \n Probabilities of Class Yes is 1.0:\n\n Number of Instances of the Current Sub Class is 1.0:\n\n Classes: Yes Yes\n \n Probabilities of Class Yes is 1.0:\n \n Probabilities of Class Yes is 1.0:\n\n Number of Instances of the Current Sub Class is 1.0:\n\n Classes: No No\n \n Probabilities of Class No is 1.0:\n \n Probabilities of Class No is 1.0:\n\n Number of Instances of the Current Sub Class is 14.0:\n\n Classes: No Yes\n \n Probabilities of Class No is 0.35714285714285715:\n \n Probabilities of Class Yes is 0.6428571428571429:\nInformation Gain Calculation of  Outlook\n\n Number of Instances of the Current Sub Class is 4.0:\n\n Classes: Yes Yes\n \n Probabilities of Class Yes is 1.0:\n \n Probabilities of Class Yes is 1.0:\n\n Number of Instances of the Current Sub Class is 5.0:\n\n Classes: No Yes\n \n Probabilities of Class No is 0.4:\n \n Probabilities of Class Yes is 0.6:\n\n Number of Instances of the Current Sub Class is 5.0:\n\n Classes: No Yes\n \n Probabilities of Class No is 0.4:\n \n Probabilities of Class Yes is 0.6:\n\n Number of Instances of the Current Sub Class is 14.0:\n\n Classes: No Yes\n \n Probabilities of Class No is 0.35714285714285715:\n \n Probabilities of Class Yes is 0.6428571428571429:\nInformation Gain Calculation of  Temperature\n\n Number of Instances of the Current Sub Class is 4.0:\n\n Classes: No Yes\n \n Probabilities of Class No is 0.25:\n \n Probabilities of Class Yes is 0.75:\n\n Number of Instances of the Current Sub Class is 4.0:\n\n Classes: No Yes\n \n Probabilities of Class No is 0.5:\n \n Probabilities of Class Yes is 0.5:\n\n Number of Instances of the Current Sub Class is 6.0:\n\n Classes: No Yes\n \n Probabilities of Class No is 0.3333333333333333:\n \n Probabilities of Class Yes is 0.6666666666666666:\n\n Number of Instances of the Current Sub Class is 14.0:\n\n Classes: No Yes\n \n Probabilities of Class No is 0.35714285714285715:\n \n Probabilities of Class Yes is 0.6428571428571429:\nInformation Gain Calculation of  Humidity\n\n Number of Instances of the Current Sub Class is 7.0:\n\n Classes: No Yes\n \n Probabilities of Class No is 0.42857142857142855:\n \n Probabilities of Class Yes is 0.5714285714285714:\n\n Number of Instances of the Current Sub Class is 7.0:\n\n Classes: No Yes\n \n Probabilities of Class No is 0.14285714285714285:\n \n Probabilities of Class Yes is 0.8571428571428571:\n\n Number of Instances of the Current Sub Class is 14.0:\n\n Classes: No Yes\n \n Probabilities of Class No is 0.35714285714285715:\n \n Probabilities of Class Yes is 0.6428571428571429:\nInformation Gain Calculation of  Wind\n\n Number of Instances of the Current Sub Class is 6.0:\n\n Classes: No Yes\n \n Probabilities of Class No is 0.5:\n \n Probabilities of Class Yes is 0.5:\n\n Number of Instances of the Current Sub Class is 8.0:\n\n Classes: No Yes\n \n Probabilities of Class No is 0.25:\n \n Probabilities of Class Yes is 0.75:\n\n Number of Instances of the Current Sub Class is 14.0:\n\n Classes: No Yes\n \n Probabilities of Class No is 0.35714285714285715:\n \n Probabilities of Class Yes is 0.6428571428571429:\n\n\nThe Resultant Decision Tree is :\n\n{'Unnamed: 0': {0: 'No',\n                1: 'No',\n                2: 'Yes',\n                3: 'Yes',\n                4: 'Yes',\n                5: 'No',\n                6: 'Yes',\n                7: 'No',\n                8: 'Yes',\n                9: 'Yes',\n                10: 'Yes',\n                11: 'Yes',\n                12: 'Yes',\n                13: 'No'}}\nBest Attribute :\n Unnamed: 0\nTree Keys:\n dict_keys([0, 1, 2, 3, 4, 5, 6, 7, 8, 9, 10, 11, 12, 13])\n"
     ]
    }
   ],
   "source": [
    "# Run Algorithm:\n",
    "from pprint import pprint\n",
    "tree = id3(df_tennis,'PlayTennis',attribute_names)\n",
    "print(\"\\n\\nThe Resultant Decision Tree is :\\n\")\n",
    "#print(tree)\n",
    "pprint(tree)\n",
    "attribute = next(iter(tree))\n",
    "print(\"Best Attribute :\\n\",attribute)\n",
    "print(\"Tree Keys:\\n\",tree[attribute].keys())"
   ]
  },
  {
   "cell_type": "markdown",
   "metadata": {},
   "source": [
    "# Classification Accuracy"
   ]
  },
  {
   "cell_type": "code",
   "execution_count": 11,
   "metadata": {},
   "outputs": [],
   "source": [
    "def classify(instance, tree, default=None): \n",
    "    \n",
    "    #print(\"Instance:\",instance)\n",
    "    attribute = next(iter(tree))        \n",
    "    print(\"Key:\",tree.keys())  \n",
    "    print(\"Attribute:\",attribute) \n",
    "   \n",
    "    # print(\"Insance of Attribute :\",instance[attribute],attribute)\n",
    "    if instance[attribute] in tree[attribute].keys():  \n",
    "        result = tree[attribute][instance[attribute]]\n",
    "        print(\"Instance Attribute:\",instance[attribute],\"TreeKeys :\",tree[attribute].keys())\n",
    "        if isinstance(result, dict): # this is a tree, delve deeper\n",
    "            return classify(instance, result)\n",
    "        else:\n",
    "            return result # this is a label\n",
    "    else:\n",
    "        return default"
   ]
  },
  {
   "cell_type": "code",
   "execution_count": 12,
   "metadata": {},
   "outputs": [
    {
     "output_type": "stream",
     "name": "stdout",
     "text": [
      "Key: dict_keys(['Unnamed: 0'])\nAttribute: Unnamed: 0\nInstance Attribute: 0 TreeKeys : dict_keys([0, 1, 2, 3, 4, 5, 6, 7, 8, 9, 10, 11, 12, 13])\nKey: dict_keys(['Unnamed: 0'])\nAttribute: Unnamed: 0\nInstance Attribute: 1 TreeKeys : dict_keys([0, 1, 2, 3, 4, 5, 6, 7, 8, 9, 10, 11, 12, 13])\nKey: dict_keys(['Unnamed: 0'])\nAttribute: Unnamed: 0\nInstance Attribute: 2 TreeKeys : dict_keys([0, 1, 2, 3, 4, 5, 6, 7, 8, 9, 10, 11, 12, 13])\nKey: dict_keys(['Unnamed: 0'])\nAttribute: Unnamed: 0\nInstance Attribute: 3 TreeKeys : dict_keys([0, 1, 2, 3, 4, 5, 6, 7, 8, 9, 10, 11, 12, 13])\nKey: dict_keys(['Unnamed: 0'])\nAttribute: Unnamed: 0\nInstance Attribute: 4 TreeKeys : dict_keys([0, 1, 2, 3, 4, 5, 6, 7, 8, 9, 10, 11, 12, 13])\nKey: dict_keys(['Unnamed: 0'])\nAttribute: Unnamed: 0\nInstance Attribute: 5 TreeKeys : dict_keys([0, 1, 2, 3, 4, 5, 6, 7, 8, 9, 10, 11, 12, 13])\nKey: dict_keys(['Unnamed: 0'])\nAttribute: Unnamed: 0\nInstance Attribute: 6 TreeKeys : dict_keys([0, 1, 2, 3, 4, 5, 6, 7, 8, 9, 10, 11, 12, 13])\nKey: dict_keys(['Unnamed: 0'])\nAttribute: Unnamed: 0\nInstance Attribute: 7 TreeKeys : dict_keys([0, 1, 2, 3, 4, 5, 6, 7, 8, 9, 10, 11, 12, 13])\nKey: dict_keys(['Unnamed: 0'])\nAttribute: Unnamed: 0\nInstance Attribute: 8 TreeKeys : dict_keys([0, 1, 2, 3, 4, 5, 6, 7, 8, 9, 10, 11, 12, 13])\nKey: dict_keys(['Unnamed: 0'])\nAttribute: Unnamed: 0\nInstance Attribute: 9 TreeKeys : dict_keys([0, 1, 2, 3, 4, 5, 6, 7, 8, 9, 10, 11, 12, 13])\nKey: dict_keys(['Unnamed: 0'])\nAttribute: Unnamed: 0\nInstance Attribute: 10 TreeKeys : dict_keys([0, 1, 2, 3, 4, 5, 6, 7, 8, 9, 10, 11, 12, 13])\nKey: dict_keys(['Unnamed: 0'])\nAttribute: Unnamed: 0\nInstance Attribute: 11 TreeKeys : dict_keys([0, 1, 2, 3, 4, 5, 6, 7, 8, 9, 10, 11, 12, 13])\nKey: dict_keys(['Unnamed: 0'])\nAttribute: Unnamed: 0\nInstance Attribute: 12 TreeKeys : dict_keys([0, 1, 2, 3, 4, 5, 6, 7, 8, 9, 10, 11, 12, 13])\nKey: dict_keys(['Unnamed: 0'])\nAttribute: Unnamed: 0\nInstance Attribute: 13 TreeKeys : dict_keys([0, 1, 2, 3, 4, 5, 6, 7, 8, 9, 10, 11, 12, 13])\n0      No\n1      No\n2     Yes\n3     Yes\n4     Yes\n5      No\n6     Yes\n7      No\n8     Yes\n9     Yes\n10    Yes\n11    Yes\n12    Yes\n13     No\nName: predicted, dtype: object\n\n Accuracy is:\n1.0\n"
     ]
    },
    {
     "output_type": "execute_result",
     "data": {
      "text/plain": [
       "   PlayTennis predicted\n",
       "0          No        No\n",
       "1          No        No\n",
       "2         Yes       Yes\n",
       "3         Yes       Yes\n",
       "4         Yes       Yes\n",
       "5          No        No\n",
       "6         Yes       Yes\n",
       "7          No        No\n",
       "8         Yes       Yes\n",
       "9         Yes       Yes\n",
       "10        Yes       Yes\n",
       "11        Yes       Yes\n",
       "12        Yes       Yes\n",
       "13         No        No"
      ],
      "text/html": "<div>\n<style scoped>\n    .dataframe tbody tr th:only-of-type {\n        vertical-align: middle;\n    }\n\n    .dataframe tbody tr th {\n        vertical-align: top;\n    }\n\n    .dataframe thead th {\n        text-align: right;\n    }\n</style>\n<table border=\"1\" class=\"dataframe\">\n  <thead>\n    <tr style=\"text-align: right;\">\n      <th></th>\n      <th>PlayTennis</th>\n      <th>predicted</th>\n    </tr>\n  </thead>\n  <tbody>\n    <tr>\n      <th>0</th>\n      <td>No</td>\n      <td>No</td>\n    </tr>\n    <tr>\n      <th>1</th>\n      <td>No</td>\n      <td>No</td>\n    </tr>\n    <tr>\n      <th>2</th>\n      <td>Yes</td>\n      <td>Yes</td>\n    </tr>\n    <tr>\n      <th>3</th>\n      <td>Yes</td>\n      <td>Yes</td>\n    </tr>\n    <tr>\n      <th>4</th>\n      <td>Yes</td>\n      <td>Yes</td>\n    </tr>\n    <tr>\n      <th>5</th>\n      <td>No</td>\n      <td>No</td>\n    </tr>\n    <tr>\n      <th>6</th>\n      <td>Yes</td>\n      <td>Yes</td>\n    </tr>\n    <tr>\n      <th>7</th>\n      <td>No</td>\n      <td>No</td>\n    </tr>\n    <tr>\n      <th>8</th>\n      <td>Yes</td>\n      <td>Yes</td>\n    </tr>\n    <tr>\n      <th>9</th>\n      <td>Yes</td>\n      <td>Yes</td>\n    </tr>\n    <tr>\n      <th>10</th>\n      <td>Yes</td>\n      <td>Yes</td>\n    </tr>\n    <tr>\n      <th>11</th>\n      <td>Yes</td>\n      <td>Yes</td>\n    </tr>\n    <tr>\n      <th>12</th>\n      <td>Yes</td>\n      <td>Yes</td>\n    </tr>\n    <tr>\n      <th>13</th>\n      <td>No</td>\n      <td>No</td>\n    </tr>\n  </tbody>\n</table>\n</div>"
     },
     "metadata": {},
     "execution_count": 12
    }
   ],
   "source": [
    "df_tennis['predicted'] = df_tennis.apply(classify, axis=1, args=(tree,'No') ) \n",
    "   \n",
    "\n",
    "print(df_tennis['predicted'])\n",
    "\n",
    "print('\\n Accuracy is:\\n' + str( sum(df_tennis['PlayTennis']==df_tennis['predicted'] ) / (1.0*len(df_tennis.index)) ))\n",
    "\n",
    "\n",
    "df_tennis[['PlayTennis', 'predicted']]\n"
   ]
  },
  {
   "cell_type": "markdown",
   "metadata": {
    "collapsed": true
   },
   "source": [
    "# Classification Accuracy: Training/Testing Set"
   ]
  },
  {
   "cell_type": "code",
   "execution_count": 13,
   "metadata": {
    "scrolled": false
   },
   "outputs": [
    {
     "output_type": "stream",
     "name": "stdout",
     "text": [
      "Information Gain Calculation of  Unnamed: 0\n",
      "\n",
      " Number of Instances of the Current Sub Class is 1.0:\n",
      "\n",
      " Classes: No No\n",
      " \n",
      " Probabilities of Class No is 1.0:\n",
      " \n",
      " Probabilities of Class No is 1.0:\n",
      "\n",
      " Number of Instances of the Current Sub Class is 1.0:\n",
      "\n",
      " Classes: Yes Yes\n",
      " \n",
      " Probabilities of Class Yes is 1.0:\n",
      " \n",
      " Probabilities of Class Yes is 1.0:\n",
      "\n",
      " Number of Instances of the Current Sub Class is 1.0:\n",
      "\n",
      " Classes: Yes Yes\n",
      " \n",
      " Probabilities of Class Yes is 1.0:\n",
      " \n",
      " Probabilities of Class Yes is 1.0:\n",
      "\n",
      " Number of Instances of the Current Sub Class is 1.0:\n",
      "\n",
      " Classes: Yes Yes\n",
      " \n",
      " Probabilities of Class Yes is 1.0:\n",
      " \n",
      " Probabilities of Class Yes is 1.0:\n",
      "\n",
      " Number of Instances of the Current Sub Class is 1.0:\n",
      "\n",
      " Classes: No No\n",
      " \n",
      " Probabilities of Class No is 1.0:\n",
      " \n",
      " Probabilities of Class No is 1.0:\n",
      "\n",
      " Number of Instances of the Current Sub Class is 1.0:\n",
      "\n",
      " Classes: Yes Yes\n",
      " \n",
      " Probabilities of Class Yes is 1.0:\n",
      " \n",
      " Probabilities of Class Yes is 1.0:\n",
      "\n",
      " Number of Instances of the Current Sub Class is 1.0:\n",
      "\n",
      " Classes: No No\n",
      " \n",
      " Probabilities of Class No is 1.0:\n",
      " \n",
      " Probabilities of Class No is 1.0:\n",
      "\n",
      " Number of Instances of the Current Sub Class is 1.0:\n",
      "\n",
      " Classes: Yes Yes\n",
      " \n",
      " Probabilities of Class Yes is 1.0:\n",
      " \n",
      " Probabilities of Class Yes is 1.0:\n",
      "\n",
      " Number of Instances of the Current Sub Class is 1.0:\n",
      "\n",
      " Classes: Yes Yes\n",
      " \n",
      " Probabilities of Class Yes is 1.0:\n",
      " \n",
      " Probabilities of Class Yes is 1.0:\n",
      "\n",
      " Number of Instances of the Current Sub Class is 9.0:\n",
      "\n",
      " Classes: No Yes\n",
      " \n",
      " Probabilities of Class No is 0.3333333333333333:\n",
      " \n",
      " Probabilities of Class Yes is 0.6666666666666666:\n",
      "Information Gain Calculation of  Outlook\n",
      "\n",
      " Number of Instances of the Current Sub Class is 2.0:\n",
      "\n",
      " Classes: Yes Yes\n",
      " \n",
      " Probabilities of Class Yes is 1.0:\n",
      " \n",
      " Probabilities of Class Yes is 1.0:\n",
      "\n",
      " Number of Instances of the Current Sub Class is 4.0:\n",
      "\n",
      " Classes: No Yes\n",
      " \n",
      " Probabilities of Class No is 0.25:\n",
      " \n",
      " Probabilities of Class Yes is 0.75:\n",
      "\n",
      " Number of Instances of the Current Sub Class is 3.0:\n",
      "\n",
      " Classes: No Yes\n",
      " \n",
      " Probabilities of Class No is 0.3333333333333333:\n",
      " \n",
      " Probabilities of Class Yes is 0.6666666666666666:\n",
      "\n",
      " Number of Instances of the Current Sub Class is 9.0:\n",
      "\n",
      " Classes: No Yes\n",
      " \n",
      " Probabilities of Class No is 0.3333333333333333:\n",
      " \n",
      " Probabilities of Class Yes is 0.6666666666666666:\n",
      "Information Gain Calculation of  Temperature\n",
      "\n",
      " Number of Instances of the Current Sub Class is 4.0:\n",
      "\n",
      " Classes: No Yes\n",
      " \n",
      " Probabilities of Class No is 0.25:\n",
      " \n",
      " Probabilities of Class Yes is 0.75:\n",
      "\n",
      " Number of Instances of the Current Sub Class is 2.0:\n",
      "\n",
      " Classes: No Yes\n",
      " \n",
      " Probabilities of Class No is 0.5:\n",
      " \n",
      " Probabilities of Class Yes is 0.5:\n",
      "\n",
      " Number of Instances of the Current Sub Class is 3.0:\n",
      "\n",
      " Classes: No Yes\n",
      " \n",
      " Probabilities of Class No is 0.3333333333333333:\n",
      " \n",
      " Probabilities of Class Yes is 0.6666666666666666:\n",
      "\n",
      " Number of Instances of the Current Sub Class is 9.0:\n",
      "\n",
      " Classes: No Yes\n",
      " \n",
      " Probabilities of Class No is 0.3333333333333333:\n",
      " \n",
      " Probabilities of Class Yes is 0.6666666666666666:\n",
      "Information Gain Calculation of  Humidity\n",
      "\n",
      " Number of Instances of the Current Sub Class is 4.0:\n",
      "\n",
      " Classes: No Yes\n",
      " \n",
      " Probabilities of Class No is 0.5:\n",
      " \n",
      " Probabilities of Class Yes is 0.5:\n",
      "\n",
      " Number of Instances of the Current Sub Class is 5.0:\n",
      "\n",
      " Classes: No Yes\n",
      " \n",
      " Probabilities of Class No is 0.2:\n",
      " \n",
      " Probabilities of Class Yes is 0.8:\n",
      "\n",
      " Number of Instances of the Current Sub Class is 9.0:\n",
      "\n",
      " Classes: No Yes\n",
      " \n",
      " Probabilities of Class No is 0.3333333333333333:\n",
      " \n",
      " Probabilities of Class Yes is 0.6666666666666666:\n",
      "Information Gain Calculation of  Wind\n",
      "\n",
      " Number of Instances of the Current Sub Class is 3.0:\n",
      "\n",
      " Classes: No Yes\n",
      " \n",
      " Probabilities of Class No is 0.3333333333333333:\n",
      " \n",
      " Probabilities of Class Yes is 0.6666666666666666:\n",
      "\n",
      " Number of Instances of the Current Sub Class is 6.0:\n",
      "\n",
      " Classes: No Yes\n",
      " \n",
      " Probabilities of Class No is 0.16666666666666666:\n",
      " \n",
      " Probabilities of Class Yes is 0.8333333333333334:\n",
      "\n",
      " Number of Instances of the Current Sub Class is 9.0:\n",
      "\n",
      " Classes: No Yes\n",
      " \n",
      " Probabilities of Class No is 0.3333333333333333:\n",
      " \n",
      " Probabilities of Class Yes is 0.6666666666666666:\n",
      "Key: dict_keys(['Unnamed: 0'])\n",
      "Attribute: Unnamed: 0\n",
      "Key: dict_keys(['Unnamed: 0'])\n",
      "Attribute: Unnamed: 0\n",
      "Key: dict_keys(['Unnamed: 0'])\n",
      "Attribute: Unnamed: 0\n",
      "Key: dict_keys(['Unnamed: 0'])\n",
      "Attribute: Unnamed: 0\n",
      "\n",
      "\n",
      " Accuracy is : 0.75\n"
     ]
    }
   ],
   "source": [
    "training_data = df_tennis.iloc[1:-4] \n",
    "test_data  = df_tennis.iloc[-4:] \n",
    "train_tree = id3(training_data, 'PlayTennis', attribute_names)\n",
    "\n",
    "test_data['predicted2'] = test_data.apply(                               \n",
    "                                          classify, \n",
    "                                          axis=1, \n",
    "                                          args=(train_tree,'Yes') ) \n",
    "\n",
    "\n",
    "print ('\\n\\n Accuracy is : ' + str( sum(test_data['PlayTennis']==test_data['predicted2'] ) / (1.0*len(test_data.index)) ))"
   ]
  },
  {
   "cell_type": "code",
   "execution_count": null,
   "metadata": {},
   "outputs": [],
   "source": []
  }
 ],
 "metadata": {
  "kernelspec": {
   "name": "Python 3.8.6 64-bit",
   "display_name": "Python 3.8.6 64-bit",
   "metadata": {
    "interpreter": {
     "hash": "f073fde64cff0bfa6bc78247ab203eaa06c42f350dd61c8085c0f24397a13414"
    }
   }
  },
  "language_info": {
   "codemirror_mode": {
    "name": "ipython",
    "version": 3
   },
   "file_extension": ".py",
   "mimetype": "text/x-python",
   "name": "python",
   "nbconvert_exporter": "python",
   "pygments_lexer": "ipython3",
   "version": "3.8.6-final"
  }
 },
 "nbformat": 4,
 "nbformat_minor": 2
}